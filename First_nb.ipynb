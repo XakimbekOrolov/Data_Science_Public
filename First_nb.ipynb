{
  "nbformat": 4,
  "nbformat_minor": 0,
  "metadata": {
    "colab": {
      "provenance": [],
      "authorship_tag": "ABX9TyPPjl/ATa0FdLyGxJYC62iK",
      "include_colab_link": true
    },
    "kernelspec": {
      "name": "python3",
      "display_name": "Python 3"
    },
    "language_info": {
      "name": "python"
    }
  },
  "cells": [
    {
      "cell_type": "markdown",
      "metadata": {
        "id": "view-in-github",
        "colab_type": "text"
      },
      "source": [
        "<a href=\"https://colab.research.google.com/github/XakimbekOrolov/Data_Science_Public/blob/main/First_nb.ipynb\" target=\"_parent\"><img src=\"https://colab.research.google.com/assets/colab-badge.svg\" alt=\"Open In Colab\"/></a>"
      ]
    },
    {
      "cell_type": "markdown",
      "source": [
        "# Data Science Praktikum\n",
        "Assalomu alaykum Bugundan Praktikumni boshlaymiz!\n"
      ],
      "metadata": {
        "id": "1QG0hHf0SwvN"
      }
    },
    {
      "cell_type": "code",
      "execution_count": null,
      "metadata": {
        "colab": {
          "base_uri": "https://localhost:8080/"
        },
        "id": "vszWZSNYSmVC",
        "outputId": "01ab03f8-20f8-436b-db67-ae82e7d855d3"
      },
      "outputs": [
        {
          "output_type": "stream",
          "name": "stdout",
          "text": [
            "Salom Mohirdev\n"
          ]
        }
      ],
      "source": [
        "print(\"Salom Mohirdev\")"
      ]
    },
    {
      "cell_type": "code",
      "source": [],
      "metadata": {
        "id": "gt_TEKekTT_d"
      },
      "execution_count": null,
      "outputs": []
    }
  ]
}